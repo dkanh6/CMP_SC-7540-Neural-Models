{
  "nbformat": 4,
  "nbformat_minor": 0,
  "metadata": {
    "colab": {
      "provenance": [],
      "authorship_tag": "ABX9TyN+c73Yj5GGCw+LeS6PtK8l",
      "include_colab_link": true
    },
    "kernelspec": {
      "name": "python3",
      "display_name": "Python 3"
    },
    "language_info": {
      "name": "python"
    }
  },
  "cells": [
    {
      "cell_type": "markdown",
      "metadata": {
        "id": "view-in-github",
        "colab_type": "text"
      },
      "source": [
        "<a href=\"https://colab.research.google.com/github/dkanh6/Machine_Learning_Examples/blob/main/Probability_Distributions.ipynb\" target=\"_parent\"><img src=\"https://colab.research.google.com/assets/colab-badge.svg\" alt=\"Open In Colab\"/></a>"
      ]
    },
    {
      "cell_type": "markdown",
      "source": [
        "This script will show how to generate data that follows various statistics distributions, plot their associated PDF's, and provide insight into their governing equations and the parameters that influence its behavior."
      ],
      "metadata": {
        "id": "8wvQnA6sVqE3"
      }
    },
    {
      "cell_type": "code",
      "execution_count": 1,
      "metadata": {
        "id": "avO-wLtuVk31"
      },
      "outputs": [],
      "source": [
        "import numpy as np\n",
        "import scipy.stats as st\n",
        "import scipy.signal as signal\n",
        "import matplotlib.pyplot as plt"
      ]
    },
    {
      "cell_type": "markdown",
      "source": [
        "# Bernoulli Distributions\n",
        " Is the simplest discrete distribution and is a special case of the binomial distribution where a single trial is conduced (n=1). It has only two possible outcomes, often termed as \"success\" and \"failure\", with probabilities $ p $ and $ q = 1- p $, respectively.  The probability mass function (PMF) of a bernoulli distribution is defined by\n",
        " $$\n",
        "P(X = k) = p^k (1-p)^{1-k}\n",
        "$$\n",
        "\n",
        "\n",
        " for k in {0,1} where $ p $ is the probability of success (the random variable X equals 1), and $ q $ is the probability of failure (the random variable X equals 0).\n",
        "\n",
        "\n",
        "\n",
        ""
      ],
      "metadata": {
        "id": "dZJa5JVhW6qg"
      }
    },
    {
      "cell_type": "code",
      "source": [
        "import numpy as np\n",
        "import scipy.stats as st\n",
        "import matplotlib.pyplot as plt\n",
        "\n",
        "# Create object for Bernoulli Distribution\n",
        "dist_bernoulli = st.bernoulli\n",
        "\n",
        "# Specify the probability of success for the Bernoulli distribution\n",
        "p = 0.3\n",
        "\n",
        "# Generate 1000 random samples from the Bernoulli distribution\n",
        "x = dist_bernoulli.rvs(p, size=1000)\n",
        "\n",
        "#Possible values in a Bernoulli distribution are 0 and 1\n",
        "xs = np.array([0, 1])\n",
        "# Evaluate the PMF at 0 and 1\n",
        "pmf_bernoulli = dist_bernoulli.pmf(xs, p)\n",
        "\n",
        "# Plot histogram of the relative frequency of 0's and 1's\n",
        "plt.figure()\n",
        "plt.hist(x, bins=xs.size, range=(xs[0]-.5, xs[-1]+.5), density=True)\n",
        "\n",
        "# Plot the PMF with red circles to visualize the probability of 0's and 1's\n",
        "plt.plot(xs, pmf_bernoulli, 'ro', markersize=10, markerfacecolor='None')\n",
        "\n",
        "# Set the ticks on the x-axis to correspond to 0 and 1\n",
        "plt.xticks(xs)\n",
        "# Set the y-axis limits to range from 0 to 1\n",
        "plt.ylim([0, 1])\n",
        "# Label the x-axis as 'x'\n",
        "plt.xlabel('x')\n",
        "# Label the y-axis as 'probability'\n",
        "plt.ylabel('probability')\n",
        "# Display the plot\n",
        "plt.show()"
      ],
      "metadata": {
        "colab": {
          "base_uri": "https://localhost:8080/",
          "height": 455
        },
        "id": "03UiAOR7b5Ef",
        "outputId": "b1146d87-2a3e-4da9-9074-7481cc81238d"
      },
      "execution_count": 2,
      "outputs": [
        {
          "output_type": "display_data",
          "data": {
            "text/plain": [
              "<Figure size 640x480 with 1 Axes>"
            ],
            "image/png": "[encoded data removed]"
          },
          "metadata": {}
        }
      ]
    },
    {
      "cell_type": "markdown",
      "source": [
        "# Uniform Distribution\n",
        "\n",
        "The Uniform distribution is a continuous distribution that is defined over an interval \\( [a, b] \\). It is characterized by a constant probability density function, indicating that all outcomes in the interval \\( [a, b] \\) are equally likely.\n",
        "\n",
        "### Probability Density Function (PDF)\n",
        "\n",
        "The probability density function for a Uniform distribution is given by:\n",
        "\n",
        "$$\n",
        "f(x) =\n",
        "\\begin{cases}\n",
        "\\frac{1}{b - a} & \\text{for } a \\le x \\le b, \\\\\n",
        "0 & \\text{otherwise}.\n",
        "\\end{cases}\n",
        "$$\n",
        "\n",
        "This function represents the \"flat\" nature of the distribution, showing that each value is equally likely.\n",
        "\n",
        "## Cumulative Distribution Function (CDF)\n",
        "\n",
        "The cumulative distribution function, which gives the probability that a random variable \\( X \\) will take a value less than or equal to \\( x \\), is:\n",
        "\n",
        "$$\n",
        "F(x) =\n",
        "\\begin{cases}\n",
        "0 & \\text{for } x < a, \\\\\n",
        "\\frac{x - a}{b - a} & \\text{for } a \\le x \\le b, \\\\\n",
        "1 & \\text{for } x > b.\n",
        "\\end{cases}\n",
        "$$\n",
        "\n",
        "## Moment Generating Function (MGF)\n",
        "\n",
        "The moment generating function for the Uniform distribution is:\n",
        "\n",
        "$$\n",
        "M_X(t) =\n",
        "\\begin{cases}\n",
        "1 & \\text{for } t = 0, \\\\\n",
        "\\frac{e^{tb} - e^{ta}}{t(b - a)} & \\text{for } t \\neq 0.\n",
        "\\end{cases}\n",
        "$$\n",
        "\n",
        "The MGF is a way of characterizing the distribution that is particularly useful for finding moments (like the mean and variance).\n",
        "\n",
        "## Mean\n",
        "\n",
        "The mean of the Uniform distribution is the midpoint of the interval \\( [a, b] \\):\n",
        "\n",
        "$$\n",
        "\\mu = \\frac{a + b}{2}\n",
        "$$\n",
        "\n",
        "## Variance\n",
        "\n",
        "The variance measures the spread of the distribution and is given by:\n",
        "\n",
        "$$\n",
        "\\sigma^2 = \\frac{(b - a)^2}{12}\n",
        "$$\n",
        "\n",
        "\n"
      ],
      "metadata": {
        "id": "4TTtPA3Ec-99"
      }
    },
    {
      "cell_type": "code",
      "source": [],
      "metadata": {
        "id": "xVCrebHJdCS3"
      },
      "execution_count": null,
      "outputs": []
    }
  ]
}