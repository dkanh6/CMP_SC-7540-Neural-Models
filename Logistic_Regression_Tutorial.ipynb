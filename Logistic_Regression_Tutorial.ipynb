{
  "nbformat": 4,
  "nbformat_minor": 0,
  "metadata": {
    "colab": {
      "provenance": [],
      "authorship_tag": "ABX9TyMoEWU9Xhd0DaTMR0uR89nV",
      "include_colab_link": true
    },
    "kernelspec": {
      "name": "python3",
      "display_name": "Python 3"
    },
    "language_info": {
      "name": "python"
    }
  },
  "cells": [
    {
      "cell_type": "markdown",
      "metadata": {
        "id": "view-in-github",
        "colab_type": "text"
      },
      "source": [
        "<a href=\"https://colab.research.google.com/github/dkanh6/Machine_Learning_Examples/blob/main/Logistic_Regression_Tutorial.ipynb\" target=\"_parent\"><img src=\"https://colab.research.google.com/assets/colab-badge.svg\" alt=\"Open In Colab\"/></a>"
      ]
    },
    {
      "cell_type": "markdown",
      "source": [
        "# What is Logistic Regression\n",
        "\n",
        "Unlike **Linear Regression** which is used to predict a continuous numerical value. **Logistic Regression** is used to predict discrete catagories. Specifically, it predicts the probability that a given input belongs to a certain category, making it ideal for scenarios where you need to classify objects into two distinct groups, such as spam vs. non-spam emails, Salmon vs. Sea Bass, or Disease vs. Non-Disease.\n",
        "\n",
        "In **Linear Regression** we find a line of best using Least Squares as our cost function which enables us to find $ R^2 $ and its assciated $ p $ value. If you want more details on Linear Regression in the format of a Juypter Notebook click the adjacent link [different Tutorial](https://github.com/dkanh6/Machine_Learning_Examples/blob/main/Linear_Regression_Tutorial.ipynb).In **Logistic Regression** we use Maximum Likelihood Estimation (MLE) to create a sigmoidal \"Logistic Function\" (Heaviside) which plots the probability of a an input being apart of a specific class.\n",
        "\n",
        "In a basic sense, a logistic regression only answers questions that have yes/no answers, or questtions that can be answered with 1 or 0, but can be extended to include multiple classes (Multinomal linear regression).\n"
      ],
      "metadata": {
        "id": "3bkPj2XpprCQ"
      }
    },
    {
      "cell_type": "markdown",
      "source": [
        "# Why Python ?\n",
        "\n",
        "It has become the default data science and ML language thanks to:\n",
        "\n",
        "1.   Python is open source\n",
        "2.   Simple syntax\n",
        "3.   Powerful libraries such as (Pandas: Data Manipulation, NumPy: Numerical Operations, Scikit-learn: Machine learning)\n",
        "\n",
        "Which together not only siplify the process of data preprocessing and model building (in the case of scikit down to 3 simple steps) but also provide extensive functionalities for model evaluation and optimization.\n",
        "\n"
      ],
      "metadata": {
        "id": "K9yKhTxjUm40"
      }
    },
    {
      "cell_type": "markdown",
      "source": [
        "# Loading and Plotting Data\n",
        "\n",
        "I will be be using a dataset called [Wine](https://archive.ics.uci.edu/dataset/109/wine), whcih maps thirteen continuous variables representing chemical contents of a wine to three labels, each a different winery in Italy and this tutorial takes heavy inspiration from [Source1](https://colab.research.google.com/github/crsmithdev/notebooks/blob/master/ml-logistic-regression/ml-logistic-regression.ipynb#scrollTo=EXg5RhV0Y3Et) and [Source2](https://colab.research.google.com/drive/1m9Tby3vTNXjcyDKkZrjBtR6rexvh8Bat#scrollTo=6gBqNClsQI6t)."
      ],
      "metadata": {
        "id": "g_DiZ_JIVY0L"
      }
    },
    {
      "cell_type": "code",
      "source": [
        "import pandas as pd\n",
        "import numpy as np\n",
        "import requests\n",
        "from sklearn.preprocessing import label_binarize\n",
        "\n",
        "# This is the raw URL of the WINE dataset file\n",
        "url = 'https://raw.githubusercontent.com/dkanh6/Machine_Learning_Examples/main/wine.data'\n",
        "\n",
        "# Download the dataset\n",
        "r = requests.get(url);\n",
        "filename = \"wine.data\"\n",
        "\n",
        "# Save the content of the requests into a csv file\n",
        "with open(filename,'wb') as f:\n",
        "  f.write(r.content)\n",
        "\n",
        "# Define column names based on the datasets feature descriptions\n",
        "columns = ['class', 'alcohol', 'malic_acid', 'ash', 'alcalinity_of_ash',\n",
        "           'magnesium', 'total_phenols', 'flavanoids', 'nonflavanoid_phenols',\n",
        "           'proanthocyanins', 'color_intensity', 'hue',\n",
        "           'od280/od315_of_diluted_wines', 'proline']\n",
        "\n",
        "# Load the dataset\n",
        "data = pd.read_csv(filename, header=None, names=columns)\n",
        "\n",
        "# Continue with data processing (Currently We are reducing the feature set down to just two: alcohol and ash)\n",
        "reduced = data[data['class'] <= 2] # Extracts only the wines with label tupes 1 or 2.\n",
        "X = reduced[['alcohol','ash']].values\n",
        "y = label_binarize(reduced['class'].values, classes=[1,2], neg_label=0, pos_label=1)[:,0] # using skikit-learn label_binarize which takes an m-length list with n possibe values (two in this case) and converts it to an mxn matrix.\n",
        "\n",
        "example = np.copy(data['class'].values)\n",
        "np.random.shuffle(example)\n",
        "example = example[:10]"
      ],
      "metadata": {
        "id": "8VEKbn7nUpMS"
      },
      "execution_count": 12,
      "outputs": []
    },
    {
      "cell_type": "markdown",
      "source": [
        "Splitting the data into training and testing sets beforee going further can be done simply with train_test_split function from scikit-learn, which allows the user to specify a percentage (here 25%) to sample randomly from the data set and partiition away for testing"
      ],
      "metadata": {
        "id": "o6pMOT7ph_7_"
      }
    },
    {
      "cell_type": "code",
      "source": [
        "from sklearn.model_selection import train_test_split\n",
        "\n",
        "X_train, X_test, y_train, y_test = train_test_split(X,y, test_size=0.25)\n",
        "print('train:', len(X_train), 'test:', len(X_test))"
      ],
      "metadata": {
        "colab": {
          "base_uri": "https://localhost:8080/"
        },
        "id": "yh4KZXz5iOpv",
        "outputId": "18e68886-e42b-42f9-e8ea-8c2d2772cff7"
      },
      "execution_count": 14,
      "outputs": [
        {
          "output_type": "stream",
          "name": "stdout",
          "text": [
            "train: 97 test: 33\n"
          ]
        }
      ]
    },
    {
      "cell_type": "markdown",
      "source": [
        "Since we are going to be drawing many points, creating a fucntion that can take an nx2 array fo data points xy, and an nx1 array labels to varying to symbol and color for each point enables us to support easy plotting for three distinct labels."
      ],
      "metadata": {
        "id": "cGniU_-tiqjY"
      }
    },
    {
      "cell_type": "code",
      "source": [
        "import matplotlib.pyplot as plt\n",
        "%matplotlib inline\n",
        "\n",
        "MARKERS = ['+','x','.']\n",
        "COLORS = ['red','green','blue']\n",
        "\n",
        "def plot_points(xy, labels):\n",
        "  unqiue_labels = set(labels)\n",
        "  for i, label in enumerate(set(labels)):\n",
        "    #filter points for the current label\n",
        "    points = xy[labels ==  label]\n",
        "    marker = MARKERS[i % len(MARKERS)]\n",
        "    color = COLORS[i % len(COLORS)]\n",
        "    plt.scatter(points[:,0],points[:,1],marker=marker, color=color)\n",
        "\n",
        "plot_points(X_train, y_train)\n"
      ],
      "metadata": {
        "colab": {
          "base_uri": "https://localhost:8080/",
          "height": 430
        },
        "id": "FgG7st7ri7Jt",
        "outputId": "13787fff-576a-42de-dbde-4b15c16bc694"
      },
      "execution_count": 17,
      "outputs": [
        {
          "output_type": "display_data",
          "data": {
            "text/plain": [
              "<Figure size 640x480 with 1 Axes>"
            ],
            "image/png": "[encoded data removed]"
          },
          "metadata": {}
        }
      ]
    },
    {
      "cell_type": "markdown",
      "source": [
        "#Linear regression\n",
        "A Linear Regression models seek the line that best fits the training data, which in two-dimensional space is represented as `y = mx + b`. This line is called the hypothesis function. Here, `m` stands for the slope of the line, and `b` represents the y-intercept, the point at which the line crosses the y-axis. The \"best fit\" is achieved by minimizing the cost function, typically the mean squared error between the predicted values and the actual values in the training set. This process is known as *Linear Least Squares*.\n",
        "\n",
        "\n",
        "- **Hypothesis Function Linear Regression**:\n",
        "$$ h_{\\theta}(x) = \\theta_0 + \\theta_1x $$\n",
        "\n",
        "- **Cost Function Linear Regression**:\n",
        "$$ J(\\theta_0, \\theta_1) = \\frac{1}{2m} \\sum_{i=1}^{m} (h_{\\theta}(x^{(i)}) - y^{(i)})^2 $$\n",
        "\n",
        "  \n",
        "\n",
        "# Logistic Regression\n",
        "\n",
        "For logistic regression, we also need a hypothesis function $h_\\theta$, a cost function $J(\\theta)$, and a gradietn function that computes the partial derivative of $J(\\theta)$. In logistic regression the $J(\\theta)$. is a sigmoid function that has its y axies essentially bounded by asympotic approach such that for an infinite range of -infinity to +infinity their values can be effectiely mapped to the classes by producing a value that can be interpreted as a probabilty. MSE if applied here, would produce a non-convex shape and this would lead the algorithm to settle in local minima as opposed to the desire global minuma. Hence it is not well suited for gradient descent in this scenario. Instead we use the new cost function depicted below $J(\\theta)$.\n",
        "\n",
        "- **Hypothesis Function Logistic Regression**:\n",
        "$$\n",
        "h_\\theta(x) = \\frac{1}{1 + e^{ \\theta^Tx}}\n",
        "$$\n",
        "\n",
        "\n",
        "- **Cost Function Logisitc Regression**:\n",
        "$$\n",
        "J(\\theta) =-\\frac{1}{m}\\sum_{i=1}^{m}y^{i}\\log(h_\\theta(x^{i}))+(1-y^{i})\\log(1-h_\\theta(x^{i}))\n",
        "$$\n",
        "\n",
        "Where:\n",
        "- $\\theta_0$ is the y-intercept (b in the simple equation),\n",
        "- $\\theta_1$ is the slope (m in the simple equation),\n",
        "- $(x^{(i)}, y^{(i)})$ are the training examples,\n",
        "- $h_{\\theta}(x^{(i)})$ is the prediction for training example $x^{(i)}$,\n",
        "- $m$ is the number of training examples.\n",
        "\n",
        "Finally, the model's parameters are adjusted during training using optimization algorithms like Gradient Descent to find the values of $\\theta_i$ that minimize the cost function $J(\\theta_i)$.\n",
        "\n",
        "\n",
        "-Terminology-\n",
        "\n",
        "- **Training set** - Data used to train the model.\n",
        "- **x** - input variable or feature.\n",
        "- **y** - the \"output\" variable.\n",
        "- **m** - the number of training examples.\n",
        "- **(x,y)** - single training example.\n",
        "- **(x^{(i)}, y^{(i)})** - the i-th training example in the training set.\n",
        "\n",
        "\n",
        "Thankfully the derivative of the gradient descent stays the same, with the only differenc being a change in the hypothesis function that is used."
      ],
      "metadata": {
        "id": "7CEOXrFqkdi8"
      }
    },
    {
      "cell_type": "code",
      "source": [
        "# Creating the sigmoidal (hypothesis function), cost functoin, and gradient\n",
        "import numpy as np\n",
        "\n",
        "def sigmoid(X):\n",
        "  return 1/ (1 + np.exp(-X))\n",
        "\n",
        "def cost(theta, X, y):\n",
        "  theta = theta[:,None]\n",
        "  y = y[:,None]\n",
        "\n",
        "  hyp = sigmoid(X.dot(theta))\n",
        "  post = np.multiply(-y, np.log(hyp))\n",
        "  neg = np.multiply((1-y), np.log(1-hyp))\n",
        "\n",
        "  return np.sum(pos-neg) / (len(X))\n",
        "\n",
        "def gradient(theta, X, y):\n",
        "    theta = theta[:,None]\n",
        "    y = y[:,None]\n",
        "\n",
        "    error = sigmoid(X.dot(theta)) - y\n",
        "    return X.T.dot(error) / len(X)\n",
        "\n"
      ],
      "metadata": {
        "id": "LZD6v2lQyWO5"
      },
      "execution_count": 17,
      "outputs": []
    },
    {
      "cell_type": "markdown",
      "source": [
        "Instead of manually writing a gradient descent algorithm, an optimization algorithm from Scipy called fmin tnc will perform it. This function takes as parameters the cost function, an initial set of parameters for  θ , the gradient function, and a tuple of args to pass to each."
      ],
      "metadata": {
        "id": "js64CIOe2GXX"
      }
    },
    {
      "cell_type": "code",
      "source": [
        "from scipy.optimize import fmin_tnc\n",
        "\n",
        "def train(X, y):\n",
        "    X = np.insert(X, 0, np.ones(len(X)), axis=1)\n",
        "    theta = np.zeros(X.shape[1])\n",
        "    result = fmin_tnc(func=cost, x0=theta, fprime=gradient, args=(X, y))\n",
        "\n",
        "    return result[0]\n",
        "\n",
        "theta = train(X_train, y_train)\n",
        "print('theta: ', theta)"
      ],
      "metadata": {
        "id": "7rdvUGsC2dTm"
      },
      "execution_count": 17,
      "outputs": []
    },
    {
      "cell_type": "markdown",
      "source": [],
      "metadata": {
        "id": "FhOGZDut2gh8"
      }
    }
  ]
}