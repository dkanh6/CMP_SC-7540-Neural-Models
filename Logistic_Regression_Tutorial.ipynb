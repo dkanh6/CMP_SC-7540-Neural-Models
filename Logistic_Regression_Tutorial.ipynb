{
  "nbformat": 4,
  "nbformat_minor": 0,
  "metadata": {
    "colab": {
      "provenance": [],
      "authorship_tag": "ABX9TyP8cnede48MEIXqV+kYuZYg",
      "include_colab_link": true
    },
    "kernelspec": {
      "name": "python3",
      "display_name": "Python 3"
    },
    "language_info": {
      "name": "python"
    }
  },
  "cells": [
    {
      "cell_type": "markdown",
      "metadata": {
        "id": "view-in-github",
        "colab_type": "text"
      },
      "source": [
        "<a href=\"https://colab.research.google.com/github/dkanh6/Machine_Learning_Examples/blob/main/Logistic_Regression_Tutorial.ipynb\" target=\"_parent\"><img src=\"https://colab.research.google.com/assets/colab-badge.svg\" alt=\"Open In Colab\"/></a>"
      ]
    },
    {
      "cell_type": "markdown",
      "source": [
        "# What is Logistic Regression\n",
        "\n",
        "Unlike **Linear Regression** which is used to predict a continuous numerical value. **Logistic Regression** is used to predict discrete catagories. Specifically, it predicts the probability that a given input belongs to a certain category, making it ideal for scenarios where you need to classify objects into two distinct groups, such as spam vs. non-spam emails, Salmon vs. Sea Bass, or Disease vs. Non-Disease.\n",
        "\n",
        "In **Linear Regression** we find a line of best using Least Squares as our cost function which enables us to find $ R^2 $ and its assciated $ p $ value. If you want more details on Linear Regression in the format of a Juypter Notebook click the adjacent link [different Tutorial](https://github.com/dkanh6/Machine_Learning_Examples/blob/main/Linear_Regression_Tutorial.ipynb).In **Logistic Regression** we use Maximum Likelihood Estimation (MLE) to create a sigmoidal \"Logistic Function\" (Heaviside) which plots the probability of a an input being apart of a specific class.\n",
        "\n",
        "In a basic sense, a logistic regression only answers questions that have yes/no answers, or questtions that can be answered with 1 or 0, but can be extended to include multiple classes (Multinomal linear regression).\n"
      ],
      "metadata": {
        "id": "3bkPj2XpprCQ"
      }
    },
    {
      "cell_type": "markdown",
      "source": [
        "# Why Python ?\n",
        "\n",
        "It has become the default data science and ML language thanks to:\n",
        "\n",
        "1.   Python is open source\n",
        "2.   Simple syntax\n",
        "3.   Powerful libraries such as (Pandas: Data Manipulation, NumPy: Numerical Operations, Scikit-learn: Machine learning)\n",
        "\n",
        "Which together not only siplify the process of data preprocessing and model building (in the case of scikit down to 3 simple steps) but also provide extensive functionalities for model evaluation and optimization.\n",
        "\n"
      ],
      "metadata": {
        "id": "K9yKhTxjUm40"
      }
    },
    {
      "cell_type": "markdown",
      "source": [
        "# Loading and Plotting Data\n",
        "\n",
        "I will be be using a dataset called [Wine](https://archive.ics.uci.edu/dataset/109/wine), whcih maps thirteen continuous variables representing chemical contents of a wine to three labels, each a different winery in Italy and this tutorial takes heavy inspiration from [Source1](https://colab.research.google.com/github/crsmithdev/notebooks/blob/master/ml-logistic-regression/ml-logistic-regression.ipynb#scrollTo=EXg5RhV0Y3Et) and [Source2](https://colab.research.google.com/drive/1m9Tby3vTNXjcyDKkZrjBtR6rexvh8Bat#scrollTo=6gBqNClsQI6t)."
      ],
      "metadata": {
        "id": "g_DiZ_JIVY0L"
      }
    },
    {
      "cell_type": "code",
      "source": [
        "import pandas as pd\n",
        "import numpy as np\n",
        "import requests\n",
        "from sklearn.preprocessing import label_binarize\n",
        "\n",
        "# This is the raw URL of the WINE dataset file\n",
        "url = 'https://github.com/dkanh6/Machine_Learning_Examples/blob/main/wine.data'\n",
        "\n",
        "# Download the dataset\n",
        "r = requests.get(url);\n",
        "filename = \"wine.data\"\n",
        "\n",
        "# Save the content of the requests into a csv file\n",
        "with open(filename,'x') as f:\n",
        "  f.write(r.content)\n",
        "\n",
        "#\n",
        "\n"
      ],
      "metadata": {
        "id": "8VEKbn7nUpMS"
      },
      "execution_count": null,
      "outputs": []
    }
  ]
}